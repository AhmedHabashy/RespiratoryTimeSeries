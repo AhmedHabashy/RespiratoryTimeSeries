{
 "cells": [
  {
   "cell_type": "markdown",
   "id": "2012eda6",
   "metadata": {},
   "source": [
    "### Basic Imports"
   ]
  },
  {
   "cell_type": "code",
   "execution_count": 1,
   "id": "eeb6df1b",
   "metadata": {},
   "outputs": [],
   "source": [
    "import numpy as np\n",
    "import pandas as pd\n",
    "import matplotlib.pyplot as plt\n",
    "import seaborn as sns"
   ]
  },
  {
   "cell_type": "code",
   "execution_count": 2,
   "id": "a3e6ef22",
   "metadata": {},
   "outputs": [],
   "source": [
    "#reading data\n",
    "data = pd.read_csv('data/train.csv')\n",
    "test = pd.read_csv('data/test.csv')"
   ]
  },
  {
   "cell_type": "code",
   "execution_count": 3,
   "id": "2040bb83",
   "metadata": {},
   "outputs": [
    {
     "data": {
      "text/html": [
       "<div>\n",
       "<style scoped>\n",
       "    .dataframe tbody tr th:only-of-type {\n",
       "        vertical-align: middle;\n",
       "    }\n",
       "\n",
       "    .dataframe tbody tr th {\n",
       "        vertical-align: top;\n",
       "    }\n",
       "\n",
       "    .dataframe thead th {\n",
       "        text-align: right;\n",
       "    }\n",
       "</style>\n",
       "<table border=\"1\" class=\"dataframe\">\n",
       "  <thead>\n",
       "    <tr style=\"text-align: right;\">\n",
       "      <th></th>\n",
       "      <th>id</th>\n",
       "      <th>breath_id</th>\n",
       "      <th>R</th>\n",
       "      <th>C</th>\n",
       "      <th>time_step</th>\n",
       "      <th>u_in</th>\n",
       "      <th>u_out</th>\n",
       "      <th>pressure</th>\n",
       "    </tr>\n",
       "  </thead>\n",
       "  <tbody>\n",
       "    <tr>\n",
       "      <th>0</th>\n",
       "      <td>1</td>\n",
       "      <td>1</td>\n",
       "      <td>20</td>\n",
       "      <td>50</td>\n",
       "      <td>0.000000</td>\n",
       "      <td>0.083334</td>\n",
       "      <td>0</td>\n",
       "      <td>5.837492</td>\n",
       "    </tr>\n",
       "    <tr>\n",
       "      <th>1</th>\n",
       "      <td>2</td>\n",
       "      <td>1</td>\n",
       "      <td>20</td>\n",
       "      <td>50</td>\n",
       "      <td>0.033652</td>\n",
       "      <td>18.383041</td>\n",
       "      <td>0</td>\n",
       "      <td>5.907794</td>\n",
       "    </tr>\n",
       "    <tr>\n",
       "      <th>2</th>\n",
       "      <td>3</td>\n",
       "      <td>1</td>\n",
       "      <td>20</td>\n",
       "      <td>50</td>\n",
       "      <td>0.067514</td>\n",
       "      <td>22.509278</td>\n",
       "      <td>0</td>\n",
       "      <td>7.876254</td>\n",
       "    </tr>\n",
       "    <tr>\n",
       "      <th>3</th>\n",
       "      <td>4</td>\n",
       "      <td>1</td>\n",
       "      <td>20</td>\n",
       "      <td>50</td>\n",
       "      <td>0.101542</td>\n",
       "      <td>22.808822</td>\n",
       "      <td>0</td>\n",
       "      <td>11.742872</td>\n",
       "    </tr>\n",
       "    <tr>\n",
       "      <th>4</th>\n",
       "      <td>5</td>\n",
       "      <td>1</td>\n",
       "      <td>20</td>\n",
       "      <td>50</td>\n",
       "      <td>0.135756</td>\n",
       "      <td>25.355850</td>\n",
       "      <td>0</td>\n",
       "      <td>12.234987</td>\n",
       "    </tr>\n",
       "    <tr>\n",
       "      <th>...</th>\n",
       "      <td>...</td>\n",
       "      <td>...</td>\n",
       "      <td>...</td>\n",
       "      <td>...</td>\n",
       "      <td>...</td>\n",
       "      <td>...</td>\n",
       "      <td>...</td>\n",
       "      <td>...</td>\n",
       "    </tr>\n",
       "    <tr>\n",
       "      <th>6035995</th>\n",
       "      <td>6035996</td>\n",
       "      <td>125749</td>\n",
       "      <td>50</td>\n",
       "      <td>10</td>\n",
       "      <td>2.504603</td>\n",
       "      <td>1.489714</td>\n",
       "      <td>1</td>\n",
       "      <td>3.869032</td>\n",
       "    </tr>\n",
       "    <tr>\n",
       "      <th>6035996</th>\n",
       "      <td>6035997</td>\n",
       "      <td>125749</td>\n",
       "      <td>50</td>\n",
       "      <td>10</td>\n",
       "      <td>2.537961</td>\n",
       "      <td>1.488497</td>\n",
       "      <td>1</td>\n",
       "      <td>3.869032</td>\n",
       "    </tr>\n",
       "    <tr>\n",
       "      <th>6035997</th>\n",
       "      <td>6035998</td>\n",
       "      <td>125749</td>\n",
       "      <td>50</td>\n",
       "      <td>10</td>\n",
       "      <td>2.571408</td>\n",
       "      <td>1.558978</td>\n",
       "      <td>1</td>\n",
       "      <td>3.798729</td>\n",
       "    </tr>\n",
       "    <tr>\n",
       "      <th>6035998</th>\n",
       "      <td>6035999</td>\n",
       "      <td>125749</td>\n",
       "      <td>50</td>\n",
       "      <td>10</td>\n",
       "      <td>2.604744</td>\n",
       "      <td>1.272663</td>\n",
       "      <td>1</td>\n",
       "      <td>4.079938</td>\n",
       "    </tr>\n",
       "    <tr>\n",
       "      <th>6035999</th>\n",
       "      <td>6036000</td>\n",
       "      <td>125749</td>\n",
       "      <td>50</td>\n",
       "      <td>10</td>\n",
       "      <td>2.638017</td>\n",
       "      <td>1.482739</td>\n",
       "      <td>1</td>\n",
       "      <td>3.869032</td>\n",
       "    </tr>\n",
       "  </tbody>\n",
       "</table>\n",
       "<p>6036000 rows × 8 columns</p>\n",
       "</div>"
      ],
      "text/plain": [
       "              id  breath_id   R   C  time_step       u_in  u_out   pressure\n",
       "0              1          1  20  50   0.000000   0.083334      0   5.837492\n",
       "1              2          1  20  50   0.033652  18.383041      0   5.907794\n",
       "2              3          1  20  50   0.067514  22.509278      0   7.876254\n",
       "3              4          1  20  50   0.101542  22.808822      0  11.742872\n",
       "4              5          1  20  50   0.135756  25.355850      0  12.234987\n",
       "...          ...        ...  ..  ..        ...        ...    ...        ...\n",
       "6035995  6035996     125749  50  10   2.504603   1.489714      1   3.869032\n",
       "6035996  6035997     125749  50  10   2.537961   1.488497      1   3.869032\n",
       "6035997  6035998     125749  50  10   2.571408   1.558978      1   3.798729\n",
       "6035998  6035999     125749  50  10   2.604744   1.272663      1   4.079938\n",
       "6035999  6036000     125749  50  10   2.638017   1.482739      1   3.869032\n",
       "\n",
       "[6036000 rows x 8 columns]"
      ]
     },
     "execution_count": 3,
     "metadata": {},
     "output_type": "execute_result"
    }
   ],
   "source": [
    "data"
   ]
  },
  {
   "cell_type": "markdown",
   "id": "b11d8e33",
   "metadata": {},
   "source": [
    "### Notes about the data to help me better understand it:\n",
    "#### The goal is to predict the airway pressure of a patient based on two control\n",
    "#### inputs:  R -> airway resistance  , C-> lung compliance  , breath_id ->unique for every patient \n",
    "#### u_in: control input. Ranges from 0 to 100.\n",
    "#### u_out: control input Either 0 or 1."
   ]
  },
  {
   "cell_type": "markdown",
   "id": "c1f53dbb",
   "metadata": {},
   "source": [
    "### Data Preprocessing"
   ]
  },
  {
   "cell_type": "code",
   "execution_count": 4,
   "id": "2b7feb56",
   "metadata": {},
   "outputs": [],
   "source": [
    "from sklearn.preprocessing import Normalizer\n",
    "from sklearn.preprocessing import StandardScaler\n",
    "from sklearn.preprocessing import PolynomialFeatures"
   ]
  },
  {
   "cell_type": "code",
   "execution_count": 5,
   "id": "41663b21",
   "metadata": {},
   "outputs": [
    {
     "name": "stdout",
     "output_type": "stream",
     "text": [
      "<class 'pandas.core.frame.DataFrame'>\n",
      "RangeIndex: 6036000 entries, 0 to 6035999\n",
      "Data columns (total 8 columns):\n",
      " #   Column     Dtype  \n",
      "---  ------     -----  \n",
      " 0   id         int64  \n",
      " 1   breath_id  int64  \n",
      " 2   R          int64  \n",
      " 3   C          int64  \n",
      " 4   time_step  float64\n",
      " 5   u_in       float64\n",
      " 6   u_out      int64  \n",
      " 7   pressure   float64\n",
      "dtypes: float64(3), int64(5)\n",
      "memory usage: 368.4 MB\n"
     ]
    }
   ],
   "source": [
    "# start data cleaning process\n",
    "# check if the data type of each column is correct (a number is a number and not a string) \n",
    "# every coloumn has correct data type\n",
    "data.info()"
   ]
  },
  {
   "cell_type": "code",
   "execution_count": 6,
   "id": "cad856c9",
   "metadata": {},
   "outputs": [
    {
     "data": {
      "text/plain": [
       "id           0\n",
       "breath_id    0\n",
       "R            0\n",
       "C            0\n",
       "time_step    0\n",
       "u_in         0\n",
       "u_out        0\n",
       "pressure     0\n",
       "dtype: int64"
      ]
     },
     "execution_count": 6,
     "metadata": {},
     "output_type": "execute_result"
    }
   ],
   "source": [
    "# check for nulls\n",
    "data.isnull().sum()"
   ]
  },
  {
   "cell_type": "code",
   "execution_count": 7,
   "id": "b5999cbd",
   "metadata": {},
   "outputs": [
    {
     "data": {
      "text/plain": [
       "id           0\n",
       "breath_id    0\n",
       "R            0\n",
       "C            0\n",
       "time_step    0\n",
       "u_in         0\n",
       "u_out        0\n",
       "pressure     0\n",
       "dtype: int64"
      ]
     },
     "execution_count": 7,
     "metadata": {},
     "output_type": "execute_result"
    }
   ],
   "source": [
    "#check for na\n",
    "data.isna().sum()"
   ]
  },
  {
   "cell_type": "code",
   "execution_count": 8,
   "id": "b7913890",
   "metadata": {},
   "outputs": [
    {
     "data": {
      "text/plain": [
       "True"
      ]
     },
     "execution_count": 8,
     "metadata": {},
     "output_type": "execute_result"
    }
   ],
   "source": [
    "# check for duplicated rows \n",
    "# since all values == False therefore no duplicates\n",
    "data.duplicated().all() == False"
   ]
  },
  {
   "cell_type": "code",
   "execution_count": 9,
   "id": "5ccbbd8e",
   "metadata": {},
   "outputs": [
    {
     "data": {
      "text/plain": [
       "(6032287, 8)"
      ]
     },
     "execution_count": 9,
     "metadata": {},
     "output_type": "execute_result"
    }
   ],
   "source": [
    "#check data for correct values\n",
    "# since pressure in the data is measured in cmH2O therefore it is not expected to be zero so we will have to remove these rows\n",
    "data.drop(data[data['pressure']<0].index,inplace=True)\n",
    "data.shape"
   ]
  },
  {
   "cell_type": "code",
   "execution_count": 10,
   "id": "c222cb3e",
   "metadata": {},
   "outputs": [
    {
     "data": {
      "text/plain": [
       "(6032287, 8)"
      ]
     },
     "execution_count": 10,
     "metadata": {},
     "output_type": "execute_result"
    }
   ],
   "source": [
    "#u_in: control input. Ranges from 0 to 100.\n",
    "# u_out: control input Either 0 or 1.\n",
    "data.drop(data[data['u_in']<0].index,inplace=True)\n",
    "data.drop(data[data['u_in']>100].index,inplace=True)\n",
    "data.drop(data[(data['u_out']>1)].index,inplace=True)\n",
    "data.drop(data[(data['u_out']>0) & (data['u_out']<1)].index,inplace=True)\n",
    "data.drop(data[data['u_out']<0].index,inplace=True)\n",
    "# since R and C are (air volume per time) therefore they should be bigger than zero\n",
    "data.drop(data[data['C']<0].index,inplace=True)\n",
    "data.drop(data[data['R']<0].index,inplace=True)\n",
    "data.shape"
   ]
  },
  {
   "cell_type": "code",
   "execution_count": 11,
   "id": "363ecb81",
   "metadata": {},
   "outputs": [],
   "source": [
    "def box_plot(data,col_name):\n",
    "    sns.boxplot(data[col_name])\n",
    "    plt.title(col_name)\n",
    "    plt.show()"
   ]
  },
  {
   "cell_type": "code",
   "execution_count": 253,
   "id": "6b3786ed",
   "metadata": {},
   "outputs": [
    {
     "data": {
      "image/png": "[encoded data removed]",
      "text/plain": [
       "<Figure size 640x480 with 1 Axes>"
      ]
     },
     "metadata": {},
     "output_type": "display_data"
    },
    {
     "data": {
      "image/png": "[encoded data removed]",
      "text/plain": [
       "<Figure size 640x480 with 1 Axes>"
      ]
     },
     "metadata": {},
     "output_type": "display_data"
    },
    {
     "data": {
      "image/png": "[encoded data removed]",
      "text/plain": [
       "<Figure size 640x480 with 1 Axes>"
      ]
     },
     "metadata": {},
     "output_type": "display_data"
    },
    {
     "data": {
      "image/png": "[encoded data removed]",
      "text/plain": [
       "<Figure size 640x480 with 1 Axes>"
      ]
     },
     "metadata": {},
     "output_type": "display_data"
    },
    {
     "data": {
      "image/png": "[encoded data removed]",
      "text/plain": [
       "<Figure size 640x480 with 1 Axes>"
      ]
     },
     "metadata": {},
     "output_type": "display_data"
    },
    {
     "data": {
      "image/png": "[encoded data removed]",
      "text/plain": [
       "<Figure size 640x480 with 1 Axes>"
      ]
     },
     "metadata": {},
     "output_type": "display_data"
    },
    {
     "data": {
      "image/png": "[encoded data removed]",
      "text/plain": [
       "<Figure size 640x480 with 1 Axes>"
      ]
     },
     "metadata": {},
     "output_type": "display_data"
    },
    {
     "data": {
      "image/png": "[encoded data removed]",
      "text/plain": [
       "<Figure size 640x480 with 1 Axes>"
      ]
     },
     "metadata": {},
     "output_type": "display_data"
    }
   ],
   "source": [
    "#check for outliers\n",
    "#desplay the box plot for columns in the data\n",
    "for i in data.columns:\n",
    "    box_plot(data,i)"
   ]
  },
  {
   "cell_type": "code",
   "execution_count": 11,
   "id": "f7e4865a",
   "metadata": {},
   "outputs": [],
   "source": [
    "# remove outliers using IQR method \n",
    "def remove_outliers_iqr(df, column):\n",
    "    Q1 = df[column].quantile(0.25)\n",
    "    Q3 = df[column].quantile(0.75)\n",
    "    IQR = Q3 - Q1\n",
    "    lower_bound = Q1 - 1.5 * IQR\n",
    "    upper_bound = Q3 + 1.5 * IQR\n",
    "    df_filtered = df[(df[column] >= lower_bound) & (df[column] <= upper_bound)]\n",
    "    return df_filtered"
   ]
  },
  {
   "cell_type": "code",
   "execution_count": 12,
   "id": "e88f02e4",
   "metadata": {},
   "outputs": [
    {
     "data": {
      "text/plain": [
       "(4417489, 8)"
      ]
     },
     "execution_count": 12,
     "metadata": {},
     "output_type": "execute_result"
    }
   ],
   "source": [
    "# remove outliers from the 2 columns having the greatest number of outliers in according to graphs\n",
    "data = remove_outliers_iqr(data,'u_in')\n",
    "data = remove_outliers_iqr(data,'pressure')\n",
    "data.shape"
   ]
  },
  {
   "cell_type": "code",
   "execution_count": 13,
   "id": "0e3ffc08",
   "metadata": {},
   "outputs": [],
   "source": [
    "#breath_id in this data referes to a certain patien for the same number therfore we can add its cumulative sum as a column\n",
    "#which will add a lyer of complexity to the data so that the models can train better\n",
    "#cumilation will be done on u_in column\n",
    "# reference https://www.kaggle.com/code/ranjeetshrivastav/ventilator-pressure-prediction-xgboost\n",
    "data[\"u_in_cumilate\"] = (data['u_in']).groupby(data['breath_id']).cumsum()\n",
    "test[\"u_in_cumilate\"] = (test['u_in']).groupby(test['breath_id']).cumsum()"
   ]
  },
  {
   "cell_type": "code",
   "execution_count": 14,
   "id": "2ef24190",
   "metadata": {},
   "outputs": [],
   "source": [
    "data['u_in_lag'] = data['u_in'].shift(2)\n",
    "data = data.fillna(0)\n",
    "\n",
    "test['u_in_lag'] = test['u_in'].shift(2)\n",
    "test = test.fillna(0)"
   ]
  },
  {
   "cell_type": "code",
   "execution_count": 15,
   "id": "d8a10b6d",
   "metadata": {},
   "outputs": [],
   "source": [
    "# make sure again that no nan is found in the data \n",
    "data.fillna(0,inplace=True)\n",
    "test.fillna(0,inplace=True)"
   ]
  },
  {
   "cell_type": "code",
   "execution_count": 16,
   "id": "bada7d1a",
   "metadata": {},
   "outputs": [
    {
     "data": {
      "text/html": [
       "<div>\n",
       "<style scoped>\n",
       "    .dataframe tbody tr th:only-of-type {\n",
       "        vertical-align: middle;\n",
       "    }\n",
       "\n",
       "    .dataframe tbody tr th {\n",
       "        vertical-align: top;\n",
       "    }\n",
       "\n",
       "    .dataframe thead th {\n",
       "        text-align: right;\n",
       "    }\n",
       "</style>\n",
       "<table border=\"1\" class=\"dataframe\">\n",
       "  <thead>\n",
       "    <tr style=\"text-align: right;\">\n",
       "      <th></th>\n",
       "      <th>id</th>\n",
       "      <th>breath_id</th>\n",
       "      <th>R</th>\n",
       "      <th>C</th>\n",
       "      <th>time_step</th>\n",
       "      <th>u_in</th>\n",
       "      <th>u_out</th>\n",
       "      <th>pressure</th>\n",
       "      <th>u_in_cumilate</th>\n",
       "      <th>u_in_lag</th>\n",
       "    </tr>\n",
       "  </thead>\n",
       "  <tbody>\n",
       "    <tr>\n",
       "      <th>0</th>\n",
       "      <td>1</td>\n",
       "      <td>1</td>\n",
       "      <td>20</td>\n",
       "      <td>50</td>\n",
       "      <td>0.0</td>\n",
       "      <td>0.083334</td>\n",
       "      <td>0</td>\n",
       "      <td>5.837492</td>\n",
       "      <td>0.083334</td>\n",
       "      <td>0.0</td>\n",
       "    </tr>\n",
       "  </tbody>\n",
       "</table>\n",
       "</div>"
      ],
      "text/plain": [
       "   id  breath_id   R   C  time_step      u_in  u_out  pressure  u_in_cumilate   \n",
       "0   1          1  20  50        0.0  0.083334      0  5.837492       0.083334  \\\n",
       "\n",
       "   u_in_lag  \n",
       "0       0.0  "
      ]
     },
     "execution_count": 16,
     "metadata": {},
     "output_type": "execute_result"
    }
   ],
   "source": [
    "data.head(1)"
   ]
  },
  {
   "cell_type": "code",
   "execution_count": 17,
   "id": "9ebe8430",
   "metadata": {},
   "outputs": [
    {
     "data": {
      "text/html": [
       "<div>\n",
       "<style scoped>\n",
       "    .dataframe tbody tr th:only-of-type {\n",
       "        vertical-align: middle;\n",
       "    }\n",
       "\n",
       "    .dataframe tbody tr th {\n",
       "        vertical-align: top;\n",
       "    }\n",
       "\n",
       "    .dataframe thead th {\n",
       "        text-align: right;\n",
       "    }\n",
       "</style>\n",
       "<table border=\"1\" class=\"dataframe\">\n",
       "  <thead>\n",
       "    <tr style=\"text-align: right;\">\n",
       "      <th></th>\n",
       "      <th>id</th>\n",
       "      <th>breath_id</th>\n",
       "      <th>R</th>\n",
       "      <th>C</th>\n",
       "      <th>time_step</th>\n",
       "      <th>u_in</th>\n",
       "      <th>u_out</th>\n",
       "      <th>u_in_cumilate</th>\n",
       "      <th>u_in_lag</th>\n",
       "    </tr>\n",
       "  </thead>\n",
       "  <tbody>\n",
       "    <tr>\n",
       "      <th>0</th>\n",
       "      <td>1</td>\n",
       "      <td>0</td>\n",
       "      <td>5</td>\n",
       "      <td>20</td>\n",
       "      <td>0.0</td>\n",
       "      <td>0.0</td>\n",
       "      <td>0</td>\n",
       "      <td>0.0</td>\n",
       "      <td>0.0</td>\n",
       "    </tr>\n",
       "  </tbody>\n",
       "</table>\n",
       "</div>"
      ],
      "text/plain": [
       "   id  breath_id  R   C  time_step  u_in  u_out  u_in_cumilate  u_in_lag\n",
       "0   1          0  5  20        0.0   0.0      0            0.0       0.0"
      ]
     },
     "execution_count": 17,
     "metadata": {},
     "output_type": "execute_result"
    }
   ],
   "source": [
    "test.head(1)"
   ]
  },
  {
   "cell_type": "code",
   "execution_count": 18,
   "id": "7e8f5fe2",
   "metadata": {},
   "outputs": [],
   "source": [
    "#drop useless trainning columns \n",
    "data.drop(['id','breath_id'],axis=1,inplace=True)\n",
    "test.drop(['id','breath_id'],axis=1,inplace=True)"
   ]
  },
  {
   "cell_type": "code",
   "execution_count": 19,
   "id": "6151aab6",
   "metadata": {},
   "outputs": [
    {
     "data": {
      "text/html": [
       "<div>\n",
       "<style scoped>\n",
       "    .dataframe tbody tr th:only-of-type {\n",
       "        vertical-align: middle;\n",
       "    }\n",
       "\n",
       "    .dataframe tbody tr th {\n",
       "        vertical-align: top;\n",
       "    }\n",
       "\n",
       "    .dataframe thead th {\n",
       "        text-align: right;\n",
       "    }\n",
       "</style>\n",
       "<table border=\"1\" class=\"dataframe\">\n",
       "  <thead>\n",
       "    <tr style=\"text-align: right;\">\n",
       "      <th></th>\n",
       "      <th>R</th>\n",
       "      <th>C</th>\n",
       "      <th>time_step</th>\n",
       "      <th>u_in</th>\n",
       "      <th>u_out</th>\n",
       "      <th>pressure</th>\n",
       "      <th>u_in_cumilate</th>\n",
       "      <th>u_in_lag</th>\n",
       "    </tr>\n",
       "  </thead>\n",
       "  <tbody>\n",
       "    <tr>\n",
       "      <th>0</th>\n",
       "      <td>20</td>\n",
       "      <td>50</td>\n",
       "      <td>0.0</td>\n",
       "      <td>0.083334</td>\n",
       "      <td>0</td>\n",
       "      <td>5.837492</td>\n",
       "      <td>0.083334</td>\n",
       "      <td>0.0</td>\n",
       "    </tr>\n",
       "  </tbody>\n",
       "</table>\n",
       "</div>"
      ],
      "text/plain": [
       "    R   C  time_step      u_in  u_out  pressure  u_in_cumilate  u_in_lag\n",
       "0  20  50        0.0  0.083334      0  5.837492       0.083334       0.0"
      ]
     },
     "execution_count": 19,
     "metadata": {},
     "output_type": "execute_result"
    }
   ],
   "source": [
    "data.head(1)"
   ]
  },
  {
   "cell_type": "code",
   "execution_count": 20,
   "id": "74f8990c",
   "metadata": {},
   "outputs": [],
   "source": [
    "#split data to X,Y\n",
    "X = data.loc[:,:'u_in_lag']\n",
    "X.drop('pressure',axis=1,inplace=True)\n",
    "y = data.loc[:,'pressure']"
   ]
  },
  {
   "cell_type": "code",
   "execution_count": 21,
   "id": "22677d5a",
   "metadata": {},
   "outputs": [
    {
     "data": {
      "text/html": [
       "<div>\n",
       "<style scoped>\n",
       "    .dataframe tbody tr th:only-of-type {\n",
       "        vertical-align: middle;\n",
       "    }\n",
       "\n",
       "    .dataframe tbody tr th {\n",
       "        vertical-align: top;\n",
       "    }\n",
       "\n",
       "    .dataframe thead th {\n",
       "        text-align: right;\n",
       "    }\n",
       "</style>\n",
       "<table border=\"1\" class=\"dataframe\">\n",
       "  <thead>\n",
       "    <tr style=\"text-align: right;\">\n",
       "      <th></th>\n",
       "      <th>R</th>\n",
       "      <th>C</th>\n",
       "      <th>time_step</th>\n",
       "      <th>u_in</th>\n",
       "      <th>u_out</th>\n",
       "      <th>u_in_cumilate</th>\n",
       "      <th>u_in_lag</th>\n",
       "    </tr>\n",
       "  </thead>\n",
       "  <tbody>\n",
       "    <tr>\n",
       "      <th>0</th>\n",
       "      <td>20</td>\n",
       "      <td>50</td>\n",
       "      <td>0.0</td>\n",
       "      <td>0.083334</td>\n",
       "      <td>0</td>\n",
       "      <td>0.083334</td>\n",
       "      <td>0.0</td>\n",
       "    </tr>\n",
       "  </tbody>\n",
       "</table>\n",
       "</div>"
      ],
      "text/plain": [
       "    R   C  time_step      u_in  u_out  u_in_cumilate  u_in_lag\n",
       "0  20  50        0.0  0.083334      0       0.083334       0.0"
      ]
     },
     "execution_count": 21,
     "metadata": {},
     "output_type": "execute_result"
    }
   ],
   "source": [
    "X.head(1)"
   ]
  },
  {
   "cell_type": "code",
   "execution_count": 22,
   "id": "dcb73d7d",
   "metadata": {},
   "outputs": [
    {
     "data": {
      "text/plain": [
       "0    5.837492\n",
       "Name: pressure, dtype: float64"
      ]
     },
     "execution_count": 22,
     "metadata": {},
     "output_type": "execute_result"
    }
   ],
   "source": [
    "y.head(1)"
   ]
  },
  {
   "cell_type": "code",
   "execution_count": 22,
   "id": "6746df58",
   "metadata": {},
   "outputs": [],
   "source": [
    "#normalize\n",
    "env = EllipticEnvelope(contamination=0.05)"
   ]
  },
  {
   "cell_type": "code",
   "execution_count": null,
   "id": "d6cbc24e",
   "metadata": {},
   "outputs": [],
   "source": [
    "env.fit(X)"
   ]
  },
  {
   "cell_type": "code",
   "execution_count": null,
   "id": "f09d8e00",
   "metadata": {},
   "outputs": [],
   "source": [
    "outliers = env.predict(X) == -1\n",
    "\n",
    "# Remove the outliers\n",
    "X = X[~outliers]"
   ]
  },
  {
   "cell_type": "code",
   "execution_count": 24,
   "id": "df8b47bc",
   "metadata": {},
   "outputs": [],
   "source": [
    "#normalize Data \n",
    "norm=Normalizer(norm='l2')\n",
    "ss = StandardScaler()"
   ]
  },
  {
   "cell_type": "code",
   "execution_count": 25,
   "id": "2c0f99d4",
   "metadata": {},
   "outputs": [],
   "source": [
    "# normalize training data\n",
    "norm_data = X.copy()\n",
    "norm_data = pd.DataFrame(ss.fit_transform(norm_data), columns=X.columns[0:])\n",
    "X = norm_data"
   ]
  },
  {
   "cell_type": "code",
   "execution_count": 26,
   "id": "703f3e53",
   "metadata": {},
   "outputs": [],
   "source": [
    "#normalize test data\n",
    "norm_data = test.copy()\n",
    "norm_data = pd.DataFrame(ss.fit_transform(norm_data), columns=test.columns[0:])\n",
    "test = norm_data"
   ]
  },
  {
   "cell_type": "code",
   "execution_count": 27,
   "id": "7c2d93e1",
   "metadata": {},
   "outputs": [],
   "source": [
    "#add another layer of polynomial complexity\n",
    "poly = PolynomialFeatures(2)"
   ]
  },
  {
   "cell_type": "code",
   "execution_count": 28,
   "id": "0b6caf83",
   "metadata": {},
   "outputs": [],
   "source": [
    "poly = X.copy()\n",
    "poly = pd.DataFrame(norm.fit_transform(poly), columns=X.columns[0:])\n",
    "X = poly"
   ]
  },
  {
   "cell_type": "code",
   "execution_count": 29,
   "id": "bb7a4f57",
   "metadata": {},
   "outputs": [],
   "source": [
    "poly = test.copy()\n",
    "poly = pd.DataFrame(norm.fit_transform(poly), columns=test.columns[0:])\n",
    "test = poly"
   ]
  },
  {
   "cell_type": "code",
   "execution_count": 30,
   "id": "5aa8f4a0",
   "metadata": {},
   "outputs": [
    {
     "data": {
      "text/html": [
       "<div>\n",
       "<style scoped>\n",
       "    .dataframe tbody tr th:only-of-type {\n",
       "        vertical-align: middle;\n",
       "    }\n",
       "\n",
       "    .dataframe tbody tr th {\n",
       "        vertical-align: top;\n",
       "    }\n",
       "\n",
       "    .dataframe thead th {\n",
       "        text-align: right;\n",
       "    }\n",
       "</style>\n",
       "<table border=\"1\" class=\"dataframe\">\n",
       "  <thead>\n",
       "    <tr style=\"text-align: right;\">\n",
       "      <th></th>\n",
       "      <th>R</th>\n",
       "      <th>C</th>\n",
       "      <th>time_step</th>\n",
       "      <th>u_in</th>\n",
       "      <th>u_out</th>\n",
       "      <th>u_in_cumilate</th>\n",
       "      <th>u_in_lag</th>\n",
       "    </tr>\n",
       "  </thead>\n",
       "  <tbody>\n",
       "    <tr>\n",
       "      <th>0</th>\n",
       "      <td>-0.095103</td>\n",
       "      <td>0.346567</td>\n",
       "      <td>-0.560611</td>\n",
       "      <td>-0.308923</td>\n",
       "      <td>-0.523264</td>\n",
       "      <td>-0.294100</td>\n",
       "      <td>-0.317535</td>\n",
       "    </tr>\n",
       "    <tr>\n",
       "      <th>1</th>\n",
       "      <td>-0.139995</td>\n",
       "      <td>0.510161</td>\n",
       "      <td>-0.255781</td>\n",
       "      <td>-0.467424</td>\n",
       "      <td>0.174114</td>\n",
       "      <td>-0.432928</td>\n",
       "      <td>-0.467424</td>\n",
       "    </tr>\n",
       "    <tr>\n",
       "      <th>2</th>\n",
       "      <td>-0.141450</td>\n",
       "      <td>0.515462</td>\n",
       "      <td>-0.240490</td>\n",
       "      <td>-0.472281</td>\n",
       "      <td>0.175923</td>\n",
       "      <td>-0.437427</td>\n",
       "      <td>-0.459472</td>\n",
       "    </tr>\n",
       "    <tr>\n",
       "      <th>3</th>\n",
       "      <td>-0.141198</td>\n",
       "      <td>0.514544</td>\n",
       "      <td>-0.222029</td>\n",
       "      <td>-0.471440</td>\n",
       "      <td>0.175610</td>\n",
       "      <td>-0.436647</td>\n",
       "      <td>-0.471440</td>\n",
       "    </tr>\n",
       "    <tr>\n",
       "      <th>4</th>\n",
       "      <td>-0.141739</td>\n",
       "      <td>0.516516</td>\n",
       "      <td>-0.204928</td>\n",
       "      <td>-0.473247</td>\n",
       "      <td>0.176283</td>\n",
       "      <td>-0.438321</td>\n",
       "      <td>-0.473247</td>\n",
       "    </tr>\n",
       "  </tbody>\n",
       "</table>\n",
       "</div>"
      ],
      "text/plain": [
       "          R         C  time_step      u_in     u_out  u_in_cumilate  u_in_lag\n",
       "0 -0.095103  0.346567  -0.560611 -0.308923 -0.523264      -0.294100 -0.317535\n",
       "1 -0.139995  0.510161  -0.255781 -0.467424  0.174114      -0.432928 -0.467424\n",
       "2 -0.141450  0.515462  -0.240490 -0.472281  0.175923      -0.437427 -0.459472\n",
       "3 -0.141198  0.514544  -0.222029 -0.471440  0.175610      -0.436647 -0.471440\n",
       "4 -0.141739  0.516516  -0.204928 -0.473247  0.176283      -0.438321 -0.473247"
      ]
     },
     "execution_count": 30,
     "metadata": {},
     "output_type": "execute_result"
    }
   ],
   "source": [
    "X.head()"
   ]
  },
  {
   "cell_type": "markdown",
   "id": "7757ac54",
   "metadata": {},
   "source": [
    "### Try ML Models"
   ]
  },
  {
   "cell_type": "code",
   "execution_count": 31,
   "id": "999524ad",
   "metadata": {
    "scrolled": true
   },
   "outputs": [
    {
     "name": "stderr",
     "output_type": "stream",
     "text": [
      "Intel(R) Extension for Scikit-learn* enabled (https://github.com/intel/scikit-learn-intelex)\n"
     ]
    }
   ],
   "source": [
    "from sklearn.model_selection import train_test_split\n",
    "from sklearnex import patch_sklearn\n",
    "patch_sklearn()\n",
    "\n",
    "#Models\n",
    "from sklearn.ensemble import RandomForestRegressor\n",
    "import xgboost as xg\n",
    "from sklearn.model_selection import RandomizedSearchCV\n",
    "from sklearn.neighbors import KNeighborsRegressor\n",
    "\n",
    "# model evaluation metrics\n",
    "from sklearn.metrics import mean_squared_error\n",
    "from sklearn.metrics import r2_score"
   ]
  },
  {
   "cell_type": "code",
   "execution_count": 34,
   "id": "14884fc3",
   "metadata": {},
   "outputs": [],
   "source": [
    "def Evaluate(Name,Y_test,predictions):\n",
    "    print(f\"{Name} MSE is {mean_squared_error(Y_test,predictions)}\")\n",
    "    print(f\"R2 Score:\\n {r2_score(Y_test,predictions)} \\n\")"
   ]
  },
  {
   "cell_type": "code",
   "execution_count": 35,
   "id": "e36d56f6",
   "metadata": {},
   "outputs": [],
   "source": [
    "X_train, X_test, y_train, y_test = train_test_split(X, y, test_size=0.2, random_state=42)"
   ]
  },
  {
   "cell_type": "code",
   "execution_count": 36,
   "id": "6f89e1c5",
   "metadata": {},
   "outputs": [
    {
     "data": {
      "text/plain": [
       "((3533991, 7), (3533991,), (883498, 7), (883498,))"
      ]
     },
     "execution_count": 36,
     "metadata": {},
     "output_type": "execute_result"
    }
   ],
   "source": [
    "X_train.shape,y_train.shape,X_test.shape,y_test.shape"
   ]
  },
  {
   "cell_type": "code",
   "execution_count": 47,
   "id": "8cd057be",
   "metadata": {},
   "outputs": [],
   "source": [
    "#try XGboost\n",
    "random_grid = {\n",
    "    'n_estimators' : [5,10,15],\n",
    "    'max_depth' : [3,5,7],\n",
    "    'min_child_weight' : [0.05, 0.10, 0.15]\n",
    "}"
   ]
  },
  {
   "cell_type": "code",
   "execution_count": 48,
   "id": "c93266d8",
   "metadata": {},
   "outputs": [],
   "source": [
    "xgbr = xg.XGBRegressor(seed = 42, n_jobs=-1)"
   ]
  },
  {
   "cell_type": "code",
   "execution_count": 49,
   "id": "8f990e14",
   "metadata": {},
   "outputs": [
    {
     "name": "stdout",
     "output_type": "stream",
     "text": [
      "Fitting 3 folds for each of 5 candidates, totalling 15 fits\n"
     ]
    }
   ],
   "source": [
    "random_grid_search = RandomizedSearchCV(estimator = xgbr, param_distributions = random_grid, n_iter = 5, cv = 3, verbose = 2, random_state = 42, n_jobs = -1, scoring = 'neg_mean_squared_error').fit(X_train, y_train)"
   ]
  },
  {
   "cell_type": "code",
   "execution_count": 50,
   "id": "14199e08",
   "metadata": {},
   "outputs": [
    {
     "name": "stdout",
     "output_type": "stream",
     "text": [
      "Best Score:  -1.4037851432564967\n",
      "Best Params:  {'n_estimators': 10, 'min_child_weight': 0.1, 'max_depth': 5}\n"
     ]
    }
   ],
   "source": [
    "print('Best Score: ', random_grid_search.best_score_) \n",
    "print('Best Params: ', random_grid_search.best_params_)"
   ]
  },
  {
   "cell_type": "code",
   "execution_count": 51,
   "id": "37c30c6a",
   "metadata": {},
   "outputs": [],
   "source": [
    "pred = random_grid_search.predict(X_test)"
   ]
  },
  {
   "cell_type": "code",
   "execution_count": 52,
   "id": "e3478715",
   "metadata": {
    "scrolled": false
   },
   "outputs": [
    {
     "name": "stdout",
     "output_type": "stream",
     "text": [
      "XGBR MSE is 1.4132345296912718\n",
      "R2 Score:\n",
      " 0.7003381098922066 \n",
      "\n"
     ]
    }
   ],
   "source": [
    "Evaluate(\"XGBR\",y_test,pred)"
   ]
  },
  {
   "cell_type": "code",
   "execution_count": 53,
   "id": "d8ebc42a",
   "metadata": {},
   "outputs": [],
   "source": [
    "#try KNN\n",
    "knn = KNeighborsRegressor().fit(X_train,y_train)"
   ]
  },
  {
   "cell_type": "code",
   "execution_count": 54,
   "id": "0e87a38a",
   "metadata": {},
   "outputs": [],
   "source": [
    "knn_pred = knn.predict(X_test)"
   ]
  },
  {
   "cell_type": "code",
   "execution_count": 55,
   "id": "a28b0eaa",
   "metadata": {
    "scrolled": true
   },
   "outputs": [
    {
     "name": "stdout",
     "output_type": "stream",
     "text": [
      "knn MSE is 0.8547859199096308\n",
      "R2 Score:\n",
      " 0.8187514110247467 \n",
      "\n"
     ]
    }
   ],
   "source": [
    "Evaluate(\"knn\",y_test,knn_pred)"
   ]
  },
  {
   "cell_type": "code",
   "execution_count": 37,
   "id": "5eaceb24",
   "metadata": {},
   "outputs": [],
   "source": [
    "#try RandomForest\n",
    "forest = RandomForestRegressor().fit(X_train,y_train)"
   ]
  },
  {
   "cell_type": "code",
   "execution_count": 38,
   "id": "373a1037",
   "metadata": {},
   "outputs": [],
   "source": [
    "forest_predict = forest.predict(X_test)"
   ]
  },
  {
   "cell_type": "code",
   "execution_count": 39,
   "id": "d639d40b",
   "metadata": {
    "scrolled": true
   },
   "outputs": [
    {
     "name": "stdout",
     "output_type": "stream",
     "text": [
      "Forest MSE is 0.5911484891492916\n",
      "R2 Score:\n",
      " 0.8746530247661433 \n",
      "\n"
     ]
    }
   ],
   "source": [
    "Evaluate(\"Forest\",y_test,forest_predict)"
   ]
  },
  {
   "cell_type": "markdown",
   "id": "88589152",
   "metadata": {},
   "source": [
    "### Since RandomForestwas the best it prediction will be done on it"
   ]
  },
  {
   "cell_type": "code",
   "execution_count": 36,
   "id": "12a06d1f",
   "metadata": {},
   "outputs": [],
   "source": [
    "sub_sample = pd.read_csv('data/sample_submission.csv')"
   ]
  },
  {
   "cell_type": "code",
   "execution_count": 37,
   "id": "c7d54c37",
   "metadata": {},
   "outputs": [
    {
     "data": {
      "text/html": [
       "<div>\n",
       "<style scoped>\n",
       "    .dataframe tbody tr th:only-of-type {\n",
       "        vertical-align: middle;\n",
       "    }\n",
       "\n",
       "    .dataframe tbody tr th {\n",
       "        vertical-align: top;\n",
       "    }\n",
       "\n",
       "    .dataframe thead th {\n",
       "        text-align: right;\n",
       "    }\n",
       "</style>\n",
       "<table border=\"1\" class=\"dataframe\">\n",
       "  <thead>\n",
       "    <tr style=\"text-align: right;\">\n",
       "      <th></th>\n",
       "      <th>id</th>\n",
       "      <th>pressure</th>\n",
       "    </tr>\n",
       "  </thead>\n",
       "  <tbody>\n",
       "    <tr>\n",
       "      <th>0</th>\n",
       "      <td>1</td>\n",
       "      <td>0</td>\n",
       "    </tr>\n",
       "    <tr>\n",
       "      <th>1</th>\n",
       "      <td>2</td>\n",
       "      <td>0</td>\n",
       "    </tr>\n",
       "    <tr>\n",
       "      <th>2</th>\n",
       "      <td>3</td>\n",
       "      <td>0</td>\n",
       "    </tr>\n",
       "    <tr>\n",
       "      <th>3</th>\n",
       "      <td>4</td>\n",
       "      <td>0</td>\n",
       "    </tr>\n",
       "    <tr>\n",
       "      <th>4</th>\n",
       "      <td>5</td>\n",
       "      <td>0</td>\n",
       "    </tr>\n",
       "  </tbody>\n",
       "</table>\n",
       "</div>"
      ],
      "text/plain": [
       "   id  pressure\n",
       "0   1         0\n",
       "1   2         0\n",
       "2   3         0\n",
       "3   4         0\n",
       "4   5         0"
      ]
     },
     "execution_count": 37,
     "metadata": {},
     "output_type": "execute_result"
    }
   ],
   "source": [
    "sub_sample.head()"
   ]
  },
  {
   "cell_type": "code",
   "execution_count": 40,
   "id": "e303d7f0",
   "metadata": {},
   "outputs": [],
   "source": [
    "pressure = forest.predict(test)"
   ]
  },
  {
   "cell_type": "code",
   "execution_count": 41,
   "id": "0fdc226f",
   "metadata": {},
   "outputs": [],
   "source": [
    "sub_sample['pressure'] = pressure"
   ]
  },
  {
   "cell_type": "code",
   "execution_count": 42,
   "id": "95fe9633",
   "metadata": {},
   "outputs": [
    {
     "data": {
      "text/html": [
       "<div>\n",
       "<style scoped>\n",
       "    .dataframe tbody tr th:only-of-type {\n",
       "        vertical-align: middle;\n",
       "    }\n",
       "\n",
       "    .dataframe tbody tr th {\n",
       "        vertical-align: top;\n",
       "    }\n",
       "\n",
       "    .dataframe thead th {\n",
       "        text-align: right;\n",
       "    }\n",
       "</style>\n",
       "<table border=\"1\" class=\"dataframe\">\n",
       "  <thead>\n",
       "    <tr style=\"text-align: right;\">\n",
       "      <th></th>\n",
       "      <th>id</th>\n",
       "      <th>pressure</th>\n",
       "    </tr>\n",
       "  </thead>\n",
       "  <tbody>\n",
       "    <tr>\n",
       "      <th>0</th>\n",
       "      <td>1</td>\n",
       "      <td>6.383779</td>\n",
       "    </tr>\n",
       "    <tr>\n",
       "      <th>1</th>\n",
       "      <td>2</td>\n",
       "      <td>6.072020</td>\n",
       "    </tr>\n",
       "    <tr>\n",
       "      <th>2</th>\n",
       "      <td>3</td>\n",
       "      <td>7.004591</td>\n",
       "    </tr>\n",
       "    <tr>\n",
       "      <th>3</th>\n",
       "      <td>4</td>\n",
       "      <td>7.372363</td>\n",
       "    </tr>\n",
       "    <tr>\n",
       "      <th>4</th>\n",
       "      <td>5</td>\n",
       "      <td>9.273978</td>\n",
       "    </tr>\n",
       "    <tr>\n",
       "      <th>...</th>\n",
       "      <td>...</td>\n",
       "      <td>...</td>\n",
       "    </tr>\n",
       "    <tr>\n",
       "      <th>4023995</th>\n",
       "      <td>4023996</td>\n",
       "      <td>6.116307</td>\n",
       "    </tr>\n",
       "    <tr>\n",
       "      <th>4023996</th>\n",
       "      <td>4023997</td>\n",
       "      <td>6.243340</td>\n",
       "    </tr>\n",
       "    <tr>\n",
       "      <th>4023997</th>\n",
       "      <td>4023998</td>\n",
       "      <td>6.227242</td>\n",
       "    </tr>\n",
       "    <tr>\n",
       "      <th>4023998</th>\n",
       "      <td>4023999</td>\n",
       "      <td>6.150711</td>\n",
       "    </tr>\n",
       "    <tr>\n",
       "      <th>4023999</th>\n",
       "      <td>4024000</td>\n",
       "      <td>6.275568</td>\n",
       "    </tr>\n",
       "  </tbody>\n",
       "</table>\n",
       "<p>4024000 rows × 2 columns</p>\n",
       "</div>"
      ],
      "text/plain": [
       "              id  pressure\n",
       "0              1  6.383779\n",
       "1              2  6.072020\n",
       "2              3  7.004591\n",
       "3              4  7.372363\n",
       "4              5  9.273978\n",
       "...          ...       ...\n",
       "4023995  4023996  6.116307\n",
       "4023996  4023997  6.243340\n",
       "4023997  4023998  6.227242\n",
       "4023998  4023999  6.150711\n",
       "4023999  4024000  6.275568\n",
       "\n",
       "[4024000 rows x 2 columns]"
      ]
     },
     "execution_count": 42,
     "metadata": {},
     "output_type": "execute_result"
    }
   ],
   "source": [
    "sub_sample"
   ]
  },
  {
   "cell_type": "code",
   "execution_count": 43,
   "id": "f32fa91f",
   "metadata": {},
   "outputs": [],
   "source": [
    "sub_sample.to_csv('pressure_pred.csv',index=False)"
   ]
  },
  {
   "cell_type": "code",
   "execution_count": 45,
   "id": "94a339ca",
   "metadata": {},
   "outputs": [],
   "source": [
    "pred = pd.read_csv('pressure_pred.csv')"
   ]
  },
  {
   "cell_type": "code",
   "execution_count": 46,
   "id": "b8c594bc",
   "metadata": {},
   "outputs": [
    {
     "data": {
      "text/html": [
       "<div>\n",
       "<style scoped>\n",
       "    .dataframe tbody tr th:only-of-type {\n",
       "        vertical-align: middle;\n",
       "    }\n",
       "\n",
       "    .dataframe tbody tr th {\n",
       "        vertical-align: top;\n",
       "    }\n",
       "\n",
       "    .dataframe thead th {\n",
       "        text-align: right;\n",
       "    }\n",
       "</style>\n",
       "<table border=\"1\" class=\"dataframe\">\n",
       "  <thead>\n",
       "    <tr style=\"text-align: right;\">\n",
       "      <th></th>\n",
       "      <th>id</th>\n",
       "      <th>pressure</th>\n",
       "    </tr>\n",
       "  </thead>\n",
       "  <tbody>\n",
       "    <tr>\n",
       "      <th>0</th>\n",
       "      <td>1</td>\n",
       "      <td>6.383779</td>\n",
       "    </tr>\n",
       "    <tr>\n",
       "      <th>1</th>\n",
       "      <td>2</td>\n",
       "      <td>6.072020</td>\n",
       "    </tr>\n",
       "    <tr>\n",
       "      <th>2</th>\n",
       "      <td>3</td>\n",
       "      <td>7.004591</td>\n",
       "    </tr>\n",
       "    <tr>\n",
       "      <th>3</th>\n",
       "      <td>4</td>\n",
       "      <td>7.372363</td>\n",
       "    </tr>\n",
       "    <tr>\n",
       "      <th>4</th>\n",
       "      <td>5</td>\n",
       "      <td>9.273978</td>\n",
       "    </tr>\n",
       "    <tr>\n",
       "      <th>...</th>\n",
       "      <td>...</td>\n",
       "      <td>...</td>\n",
       "    </tr>\n",
       "    <tr>\n",
       "      <th>4023995</th>\n",
       "      <td>4023996</td>\n",
       "      <td>6.116307</td>\n",
       "    </tr>\n",
       "    <tr>\n",
       "      <th>4023996</th>\n",
       "      <td>4023997</td>\n",
       "      <td>6.243340</td>\n",
       "    </tr>\n",
       "    <tr>\n",
       "      <th>4023997</th>\n",
       "      <td>4023998</td>\n",
       "      <td>6.227242</td>\n",
       "    </tr>\n",
       "    <tr>\n",
       "      <th>4023998</th>\n",
       "      <td>4023999</td>\n",
       "      <td>6.150711</td>\n",
       "    </tr>\n",
       "    <tr>\n",
       "      <th>4023999</th>\n",
       "      <td>4024000</td>\n",
       "      <td>6.275568</td>\n",
       "    </tr>\n",
       "  </tbody>\n",
       "</table>\n",
       "<p>4024000 rows × 2 columns</p>\n",
       "</div>"
      ],
      "text/plain": [
       "              id  pressure\n",
       "0              1  6.383779\n",
       "1              2  6.072020\n",
       "2              3  7.004591\n",
       "3              4  7.372363\n",
       "4              5  9.273978\n",
       "...          ...       ...\n",
       "4023995  4023996  6.116307\n",
       "4023996  4023997  6.243340\n",
       "4023997  4023998  6.227242\n",
       "4023998  4023999  6.150711\n",
       "4023999  4024000  6.275568\n",
       "\n",
       "[4024000 rows x 2 columns]"
      ]
     },
     "execution_count": 46,
     "metadata": {},
     "output_type": "execute_result"
    }
   ],
   "source": [
    "pred"
   ]
  }
 ],
 "metadata": {
  "kernelspec": {
   "display_name": "ML",
   "language": "python",
   "name": "ml"
  },
  "language_info": {
   "codemirror_mode": {
    "name": "ipython",
    "version": 3
   },
   "file_extension": ".py",
   "mimetype": "text/x-python",
   "name": "python",
   "nbconvert_exporter": "python",
   "pygments_lexer": "ipython3",
   "version": "3.11.3"
  }
 },
 "nbformat": 4,
 "nbformat_minor": 5
}
